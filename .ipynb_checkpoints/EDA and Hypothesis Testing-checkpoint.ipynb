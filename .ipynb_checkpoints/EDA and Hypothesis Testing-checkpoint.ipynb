{
 "cells": [
  {
   "cell_type": "markdown",
   "metadata": {},
   "source": [
    "# Libraries"
   ]
  },
  {
   "cell_type": "code",
   "execution_count": 1,
   "metadata": {},
   "outputs": [],
   "source": [
    "from datascience import *\n",
    "\n",
    "import numpy as np\n",
    "import pandas as pd\n",
    "%matplotlib inline\n",
    "import matplotlib.pyplot as plt\n",
    "import seaborn as sns\n",
    "from seaborn import load_dataset\n",
    "from scipy import stats"
   ]
  },
  {
   "cell_type": "markdown",
   "metadata": {},
   "source": [
    "# Reading Files"
   ]
  },
  {
   "cell_type": "code",
   "execution_count": 2,
   "metadata": {},
   "outputs": [],
   "source": [
    "#reading csv files\n",
    "cab = pd.read_csv('Cab_Data.csv')\n",
    "city = pd.read_csv('City.csv')\n",
    "customer_id= pd.read_csv('Customer_ID.csv')\n",
    "transaction_id = pd.read_csv('Transaction_ID.csv')"
   ]
  },
  {
   "cell_type": "markdown",
   "metadata": {},
   "source": [
    "# Cab Data"
   ]
  },
  {
   "cell_type": "code",
   "execution_count": 3,
   "metadata": {},
   "outputs": [
    {
     "data": {
      "text/html": [
       "<div>\n",
       "<style scoped>\n",
       "    .dataframe tbody tr th:only-of-type {\n",
       "        vertical-align: middle;\n",
       "    }\n",
       "\n",
       "    .dataframe tbody tr th {\n",
       "        vertical-align: top;\n",
       "    }\n",
       "\n",
       "    .dataframe thead th {\n",
       "        text-align: right;\n",
       "    }\n",
       "</style>\n",
       "<table border=\"1\" class=\"dataframe\">\n",
       "  <thead>\n",
       "    <tr style=\"text-align: right;\">\n",
       "      <th></th>\n",
       "      <th>Transaction ID</th>\n",
       "      <th>Date of Travel</th>\n",
       "      <th>Company</th>\n",
       "      <th>City</th>\n",
       "      <th>KM Travelled</th>\n",
       "      <th>Price Charged</th>\n",
       "      <th>Cost of Trip</th>\n",
       "    </tr>\n",
       "  </thead>\n",
       "  <tbody>\n",
       "    <tr>\n",
       "      <th>0</th>\n",
       "      <td>10000011</td>\n",
       "      <td>42377</td>\n",
       "      <td>Pink Cab</td>\n",
       "      <td>ATLANTA GA</td>\n",
       "      <td>30.45</td>\n",
       "      <td>370.95</td>\n",
       "      <td>313.635</td>\n",
       "    </tr>\n",
       "    <tr>\n",
       "      <th>1</th>\n",
       "      <td>10000012</td>\n",
       "      <td>42375</td>\n",
       "      <td>Pink Cab</td>\n",
       "      <td>ATLANTA GA</td>\n",
       "      <td>28.62</td>\n",
       "      <td>358.52</td>\n",
       "      <td>334.854</td>\n",
       "    </tr>\n",
       "    <tr>\n",
       "      <th>2</th>\n",
       "      <td>10000013</td>\n",
       "      <td>42371</td>\n",
       "      <td>Pink Cab</td>\n",
       "      <td>ATLANTA GA</td>\n",
       "      <td>9.04</td>\n",
       "      <td>125.20</td>\n",
       "      <td>97.632</td>\n",
       "    </tr>\n",
       "    <tr>\n",
       "      <th>3</th>\n",
       "      <td>10000014</td>\n",
       "      <td>42376</td>\n",
       "      <td>Pink Cab</td>\n",
       "      <td>ATLANTA GA</td>\n",
       "      <td>33.17</td>\n",
       "      <td>377.40</td>\n",
       "      <td>351.602</td>\n",
       "    </tr>\n",
       "    <tr>\n",
       "      <th>4</th>\n",
       "      <td>10000015</td>\n",
       "      <td>42372</td>\n",
       "      <td>Pink Cab</td>\n",
       "      <td>ATLANTA GA</td>\n",
       "      <td>8.73</td>\n",
       "      <td>114.62</td>\n",
       "      <td>97.776</td>\n",
       "    </tr>\n",
       "  </tbody>\n",
       "</table>\n",
       "</div>"
      ],
      "text/plain": [
       "   Transaction ID  Date of Travel   Company        City  KM Travelled  \\\n",
       "0        10000011           42377  Pink Cab  ATLANTA GA         30.45   \n",
       "1        10000012           42375  Pink Cab  ATLANTA GA         28.62   \n",
       "2        10000013           42371  Pink Cab  ATLANTA GA          9.04   \n",
       "3        10000014           42376  Pink Cab  ATLANTA GA         33.17   \n",
       "4        10000015           42372  Pink Cab  ATLANTA GA          8.73   \n",
       "\n",
       "   Price Charged  Cost of Trip  \n",
       "0         370.95       313.635  \n",
       "1         358.52       334.854  \n",
       "2         125.20        97.632  \n",
       "3         377.40       351.602  \n",
       "4         114.62        97.776  "
      ]
     },
     "execution_count": 3,
     "metadata": {},
     "output_type": "execute_result"
    }
   ],
   "source": [
    "cab.head()"
   ]
  },
  {
   "cell_type": "code",
   "execution_count": 4,
   "metadata": {},
   "outputs": [
    {
     "name": "stdout",
     "output_type": "stream",
     "text": [
      "<class 'pandas.core.frame.DataFrame'>\n",
      "RangeIndex: 359392 entries, 0 to 359391\n",
      "Data columns (total 7 columns):\n",
      " #   Column          Non-Null Count   Dtype  \n",
      "---  ------          --------------   -----  \n",
      " 0   Transaction ID  359392 non-null  int64  \n",
      " 1   Date of Travel  359392 non-null  int64  \n",
      " 2   Company         359392 non-null  object \n",
      " 3   City            359392 non-null  object \n",
      " 4   KM Travelled    359392 non-null  float64\n",
      " 5   Price Charged   359392 non-null  float64\n",
      " 6   Cost of Trip    359392 non-null  float64\n",
      "dtypes: float64(3), int64(2), object(2)\n",
      "memory usage: 19.2+ MB\n"
     ]
    }
   ],
   "source": [
    "cab.info()"
   ]
  },
  {
   "cell_type": "code",
   "execution_count": 5,
   "metadata": {},
   "outputs": [
    {
     "data": {
      "text/plain": [
       "(359392, 7)"
      ]
     },
     "execution_count": 5,
     "metadata": {},
     "output_type": "execute_result"
    }
   ],
   "source": [
    "cab.shape"
   ]
  },
  {
   "cell_type": "code",
   "execution_count": 6,
   "metadata": {},
   "outputs": [
    {
     "data": {
      "text/plain": [
       "0"
      ]
     },
     "execution_count": 6,
     "metadata": {},
     "output_type": "execute_result"
    }
   ],
   "source": [
    "cab[cab.duplicated(keep=False)].shape[0]"
   ]
  },
  {
   "cell_type": "code",
   "execution_count": 7,
   "metadata": {},
   "outputs": [
    {
     "data": {
      "text/plain": [
       "False"
      ]
     },
     "execution_count": 7,
     "metadata": {},
     "output_type": "execute_result"
    }
   ],
   "source": [
    "cab.isna().any().any()"
   ]
  },
  {
   "cell_type": "code",
   "execution_count": 8,
   "metadata": {},
   "outputs": [],
   "source": [
    "datelist = cab['Date of Travel'].to_list()\n",
    "base = pd.Timestamp('1899-12-29')\n",
    "newdatelist = [base + pd.DateOffset(date_offset) for date_offset in datelist]"
   ]
  },
  {
   "cell_type": "code",
   "execution_count": 9,
   "metadata": {},
   "outputs": [
    {
     "name": "stdout",
     "output_type": "stream",
     "text": [
      "<class 'pandas.core.frame.DataFrame'>\n",
      "RangeIndex: 359392 entries, 0 to 359391\n",
      "Data columns (total 7 columns):\n",
      " #   Column          Non-Null Count   Dtype         \n",
      "---  ------          --------------   -----         \n",
      " 0   Transaction ID  359392 non-null  int64         \n",
      " 1   Date of Travel  359392 non-null  datetime64[ns]\n",
      " 2   Company         359392 non-null  object        \n",
      " 3   City            359392 non-null  object        \n",
      " 4   KM Travelled    359392 non-null  float64       \n",
      " 5   Price Charged   359392 non-null  float64       \n",
      " 6   Cost of Trip    359392 non-null  float64       \n",
      "dtypes: datetime64[ns](1), float64(3), int64(1), object(2)\n",
      "memory usage: 19.2+ MB\n"
     ]
    }
   ],
   "source": [
    "cab['Date of Travel'] = pd.to_datetime(newdatelist, format='%y/%m/%d')\n",
    "cab.info()"
   ]
  },
  {
   "cell_type": "code",
   "execution_count": 10,
   "metadata": {
    "scrolled": true
   },
   "outputs": [
    {
     "data": {
      "text/html": [
       "<div>\n",
       "<style scoped>\n",
       "    .dataframe tbody tr th:only-of-type {\n",
       "        vertical-align: middle;\n",
       "    }\n",
       "\n",
       "    .dataframe tbody tr th {\n",
       "        vertical-align: top;\n",
       "    }\n",
       "\n",
       "    .dataframe thead th {\n",
       "        text-align: right;\n",
       "    }\n",
       "</style>\n",
       "<table border=\"1\" class=\"dataframe\">\n",
       "  <thead>\n",
       "    <tr style=\"text-align: right;\">\n",
       "      <th></th>\n",
       "      <th>Transaction ID</th>\n",
       "      <th>Date of Travel</th>\n",
       "      <th>Company</th>\n",
       "      <th>City</th>\n",
       "      <th>KM Travelled</th>\n",
       "      <th>Price Charged</th>\n",
       "      <th>Cost of Trip</th>\n",
       "    </tr>\n",
       "  </thead>\n",
       "  <tbody>\n",
       "    <tr>\n",
       "      <th>0</th>\n",
       "      <td>10000011</td>\n",
       "      <td>2016-01-07</td>\n",
       "      <td>Pink Cab</td>\n",
       "      <td>ATLANTA GA</td>\n",
       "      <td>30.45</td>\n",
       "      <td>370.95</td>\n",
       "      <td>313.635</td>\n",
       "    </tr>\n",
       "    <tr>\n",
       "      <th>1</th>\n",
       "      <td>10000012</td>\n",
       "      <td>2016-01-05</td>\n",
       "      <td>Pink Cab</td>\n",
       "      <td>ATLANTA GA</td>\n",
       "      <td>28.62</td>\n",
       "      <td>358.52</td>\n",
       "      <td>334.854</td>\n",
       "    </tr>\n",
       "    <tr>\n",
       "      <th>2</th>\n",
       "      <td>10000013</td>\n",
       "      <td>2016-01-01</td>\n",
       "      <td>Pink Cab</td>\n",
       "      <td>ATLANTA GA</td>\n",
       "      <td>9.04</td>\n",
       "      <td>125.20</td>\n",
       "      <td>97.632</td>\n",
       "    </tr>\n",
       "    <tr>\n",
       "      <th>3</th>\n",
       "      <td>10000014</td>\n",
       "      <td>2016-01-06</td>\n",
       "      <td>Pink Cab</td>\n",
       "      <td>ATLANTA GA</td>\n",
       "      <td>33.17</td>\n",
       "      <td>377.40</td>\n",
       "      <td>351.602</td>\n",
       "    </tr>\n",
       "    <tr>\n",
       "      <th>4</th>\n",
       "      <td>10000015</td>\n",
       "      <td>2016-01-02</td>\n",
       "      <td>Pink Cab</td>\n",
       "      <td>ATLANTA GA</td>\n",
       "      <td>8.73</td>\n",
       "      <td>114.62</td>\n",
       "      <td>97.776</td>\n",
       "    </tr>\n",
       "  </tbody>\n",
       "</table>\n",
       "</div>"
      ],
      "text/plain": [
       "   Transaction ID Date of Travel   Company        City  KM Travelled  \\\n",
       "0        10000011     2016-01-07  Pink Cab  ATLANTA GA         30.45   \n",
       "1        10000012     2016-01-05  Pink Cab  ATLANTA GA         28.62   \n",
       "2        10000013     2016-01-01  Pink Cab  ATLANTA GA          9.04   \n",
       "3        10000014     2016-01-06  Pink Cab  ATLANTA GA         33.17   \n",
       "4        10000015     2016-01-02  Pink Cab  ATLANTA GA          8.73   \n",
       "\n",
       "   Price Charged  Cost of Trip  \n",
       "0         370.95       313.635  \n",
       "1         358.52       334.854  \n",
       "2         125.20        97.632  \n",
       "3         377.40       351.602  \n",
       "4         114.62        97.776  "
      ]
     },
     "execution_count": 10,
     "metadata": {},
     "output_type": "execute_result"
    }
   ],
   "source": [
    "cab.head()"
   ]
  },
  {
   "cell_type": "code",
   "execution_count": 11,
   "metadata": {},
   "outputs": [
    {
     "data": {
      "text/html": [
       "<div>\n",
       "<style scoped>\n",
       "    .dataframe tbody tr th:only-of-type {\n",
       "        vertical-align: middle;\n",
       "    }\n",
       "\n",
       "    .dataframe tbody tr th {\n",
       "        vertical-align: top;\n",
       "    }\n",
       "\n",
       "    .dataframe thead th {\n",
       "        text-align: right;\n",
       "    }\n",
       "</style>\n",
       "<table border=\"1\" class=\"dataframe\">\n",
       "  <thead>\n",
       "    <tr style=\"text-align: right;\">\n",
       "      <th></th>\n",
       "      <th>Transaction ID</th>\n",
       "      <th>Date of Travel</th>\n",
       "      <th>Company</th>\n",
       "      <th>City</th>\n",
       "      <th>KM Travelled</th>\n",
       "      <th>Price Charged</th>\n",
       "      <th>Cost of Trip</th>\n",
       "    </tr>\n",
       "  </thead>\n",
       "  <tbody>\n",
       "    <tr>\n",
       "      <th>0</th>\n",
       "      <td>10001340</td>\n",
       "      <td>2016-01-01</td>\n",
       "      <td>Yellow Cab</td>\n",
       "      <td>WASHINGTON DC</td>\n",
       "      <td>10.20</td>\n",
       "      <td>202.54</td>\n",
       "      <td>135.8640</td>\n",
       "    </tr>\n",
       "    <tr>\n",
       "      <th>1</th>\n",
       "      <td>10000640</td>\n",
       "      <td>2016-01-01</td>\n",
       "      <td>Yellow Cab</td>\n",
       "      <td>CHICAGO IL</td>\n",
       "      <td>15.60</td>\n",
       "      <td>374.66</td>\n",
       "      <td>209.6640</td>\n",
       "    </tr>\n",
       "    <tr>\n",
       "      <th>2</th>\n",
       "      <td>10000635</td>\n",
       "      <td>2016-01-01</td>\n",
       "      <td>Yellow Cab</td>\n",
       "      <td>CHICAGO IL</td>\n",
       "      <td>25.08</td>\n",
       "      <td>532.83</td>\n",
       "      <td>337.0752</td>\n",
       "    </tr>\n",
       "    <tr>\n",
       "      <th>3</th>\n",
       "      <td>10001001</td>\n",
       "      <td>2016-01-01</td>\n",
       "      <td>Yellow Cab</td>\n",
       "      <td>NEW YORK NY</td>\n",
       "      <td>46.80</td>\n",
       "      <td>1391.91</td>\n",
       "      <td>595.2960</td>\n",
       "    </tr>\n",
       "    <tr>\n",
       "      <th>4</th>\n",
       "      <td>10000171</td>\n",
       "      <td>2016-01-01</td>\n",
       "      <td>Pink Cab</td>\n",
       "      <td>SAN DIEGO CA</td>\n",
       "      <td>14.28</td>\n",
       "      <td>269.15</td>\n",
       "      <td>147.0840</td>\n",
       "    </tr>\n",
       "  </tbody>\n",
       "</table>\n",
       "</div>"
      ],
      "text/plain": [
       "   Transaction ID Date of Travel     Company           City  KM Travelled  \\\n",
       "0        10001340     2016-01-01  Yellow Cab  WASHINGTON DC         10.20   \n",
       "1        10000640     2016-01-01  Yellow Cab     CHICAGO IL         15.60   \n",
       "2        10000635     2016-01-01  Yellow Cab     CHICAGO IL         25.08   \n",
       "3        10001001     2016-01-01  Yellow Cab    NEW YORK NY         46.80   \n",
       "4        10000171     2016-01-01    Pink Cab   SAN DIEGO CA         14.28   \n",
       "\n",
       "   Price Charged  Cost of Trip  \n",
       "0         202.54      135.8640  \n",
       "1         374.66      209.6640  \n",
       "2         532.83      337.0752  \n",
       "3        1391.91      595.2960  \n",
       "4         269.15      147.0840  "
      ]
     },
     "execution_count": 11,
     "metadata": {},
     "output_type": "execute_result"
    }
   ],
   "source": [
    "cab = cab.sort_values(by='Date of Travel')\n",
    "cab = cab.reset_index(drop=True)\n",
    "cab.head()"
   ]
  },
  {
   "cell_type": "markdown",
   "metadata": {},
   "source": [
    "# City Data"
   ]
  },
  {
   "cell_type": "code",
   "execution_count": 12,
   "metadata": {},
   "outputs": [
    {
     "data": {
      "text/html": [
       "<div>\n",
       "<style scoped>\n",
       "    .dataframe tbody tr th:only-of-type {\n",
       "        vertical-align: middle;\n",
       "    }\n",
       "\n",
       "    .dataframe tbody tr th {\n",
       "        vertical-align: top;\n",
       "    }\n",
       "\n",
       "    .dataframe thead th {\n",
       "        text-align: right;\n",
       "    }\n",
       "</style>\n",
       "<table border=\"1\" class=\"dataframe\">\n",
       "  <thead>\n",
       "    <tr style=\"text-align: right;\">\n",
       "      <th></th>\n",
       "      <th>City</th>\n",
       "      <th>Population</th>\n",
       "      <th>Users</th>\n",
       "    </tr>\n",
       "  </thead>\n",
       "  <tbody>\n",
       "    <tr>\n",
       "      <th>0</th>\n",
       "      <td>NEW YORK NY</td>\n",
       "      <td>8,405,837</td>\n",
       "      <td>302,149</td>\n",
       "    </tr>\n",
       "    <tr>\n",
       "      <th>1</th>\n",
       "      <td>CHICAGO IL</td>\n",
       "      <td>1,955,130</td>\n",
       "      <td>164,468</td>\n",
       "    </tr>\n",
       "    <tr>\n",
       "      <th>2</th>\n",
       "      <td>LOS ANGELES CA</td>\n",
       "      <td>1,595,037</td>\n",
       "      <td>144,132</td>\n",
       "    </tr>\n",
       "    <tr>\n",
       "      <th>3</th>\n",
       "      <td>MIAMI FL</td>\n",
       "      <td>1,339,155</td>\n",
       "      <td>17,675</td>\n",
       "    </tr>\n",
       "    <tr>\n",
       "      <th>4</th>\n",
       "      <td>SILICON VALLEY</td>\n",
       "      <td>1,177,609</td>\n",
       "      <td>27,247</td>\n",
       "    </tr>\n",
       "  </tbody>\n",
       "</table>\n",
       "</div>"
      ],
      "text/plain": [
       "             City   Population      Users\n",
       "0     NEW YORK NY   8,405,837    302,149 \n",
       "1      CHICAGO IL   1,955,130    164,468 \n",
       "2  LOS ANGELES CA   1,595,037    144,132 \n",
       "3        MIAMI FL   1,339,155     17,675 \n",
       "4  SILICON VALLEY   1,177,609     27,247 "
      ]
     },
     "execution_count": 12,
     "metadata": {},
     "output_type": "execute_result"
    }
   ],
   "source": [
    "city.head()"
   ]
  },
  {
   "cell_type": "code",
   "execution_count": 13,
   "metadata": {},
   "outputs": [
    {
     "name": "stdout",
     "output_type": "stream",
     "text": [
      "<class 'pandas.core.frame.DataFrame'>\n",
      "RangeIndex: 20 entries, 0 to 19\n",
      "Data columns (total 3 columns):\n",
      " #   Column      Non-Null Count  Dtype \n",
      "---  ------      --------------  ----- \n",
      " 0   City        20 non-null     object\n",
      " 1   Population  20 non-null     object\n",
      " 2   Users       20 non-null     object\n",
      "dtypes: object(3)\n",
      "memory usage: 608.0+ bytes\n"
     ]
    }
   ],
   "source": [
    "city.info()"
   ]
  },
  {
   "cell_type": "code",
   "execution_count": 14,
   "metadata": {},
   "outputs": [
    {
     "data": {
      "text/plain": [
       "(20, 3)"
      ]
     },
     "execution_count": 14,
     "metadata": {},
     "output_type": "execute_result"
    }
   ],
   "source": [
    "city.shape"
   ]
  },
  {
   "cell_type": "code",
   "execution_count": 15,
   "metadata": {},
   "outputs": [
    {
     "data": {
      "text/plain": [
       "0"
      ]
     },
     "execution_count": 15,
     "metadata": {},
     "output_type": "execute_result"
    }
   ],
   "source": [
    "city[city.duplicated(keep=False)].shape[0]"
   ]
  },
  {
   "cell_type": "code",
   "execution_count": 16,
   "metadata": {},
   "outputs": [
    {
     "data": {
      "text/plain": [
       "False"
      ]
     },
     "execution_count": 16,
     "metadata": {},
     "output_type": "execute_result"
    }
   ],
   "source": [
    "city.isna().any().any()"
   ]
  },
  {
   "cell_type": "code",
   "execution_count": 17,
   "metadata": {},
   "outputs": [],
   "source": [
    "city.Population = city.Population.str.replace(',', \"\").astype(float)\n",
    "city.Users = city.Users.str.replace(\",\", \"\").astype(float)"
   ]
  },
  {
   "cell_type": "code",
   "execution_count": 18,
   "metadata": {},
   "outputs": [
    {
     "name": "stdout",
     "output_type": "stream",
     "text": [
      "<class 'pandas.core.frame.DataFrame'>\n",
      "RangeIndex: 20 entries, 0 to 19\n",
      "Data columns (total 3 columns):\n",
      " #   Column      Non-Null Count  Dtype  \n",
      "---  ------      --------------  -----  \n",
      " 0   City        20 non-null     object \n",
      " 1   Population  20 non-null     float64\n",
      " 2   Users       20 non-null     float64\n",
      "dtypes: float64(2), object(1)\n",
      "memory usage: 608.0+ bytes\n"
     ]
    }
   ],
   "source": [
    "city.info()"
   ]
  },
  {
   "cell_type": "markdown",
   "metadata": {},
   "source": [
    "# Customer Data"
   ]
  },
  {
   "cell_type": "code",
   "execution_count": 19,
   "metadata": {},
   "outputs": [
    {
     "data": {
      "text/html": [
       "<div>\n",
       "<style scoped>\n",
       "    .dataframe tbody tr th:only-of-type {\n",
       "        vertical-align: middle;\n",
       "    }\n",
       "\n",
       "    .dataframe tbody tr th {\n",
       "        vertical-align: top;\n",
       "    }\n",
       "\n",
       "    .dataframe thead th {\n",
       "        text-align: right;\n",
       "    }\n",
       "</style>\n",
       "<table border=\"1\" class=\"dataframe\">\n",
       "  <thead>\n",
       "    <tr style=\"text-align: right;\">\n",
       "      <th></th>\n",
       "      <th>Customer ID</th>\n",
       "      <th>Gender</th>\n",
       "      <th>Age</th>\n",
       "      <th>Income (USD/Month)</th>\n",
       "    </tr>\n",
       "  </thead>\n",
       "  <tbody>\n",
       "    <tr>\n",
       "      <th>0</th>\n",
       "      <td>29290</td>\n",
       "      <td>Male</td>\n",
       "      <td>28</td>\n",
       "      <td>10813</td>\n",
       "    </tr>\n",
       "    <tr>\n",
       "      <th>1</th>\n",
       "      <td>27703</td>\n",
       "      <td>Male</td>\n",
       "      <td>27</td>\n",
       "      <td>9237</td>\n",
       "    </tr>\n",
       "    <tr>\n",
       "      <th>2</th>\n",
       "      <td>28712</td>\n",
       "      <td>Male</td>\n",
       "      <td>53</td>\n",
       "      <td>11242</td>\n",
       "    </tr>\n",
       "    <tr>\n",
       "      <th>3</th>\n",
       "      <td>28020</td>\n",
       "      <td>Male</td>\n",
       "      <td>23</td>\n",
       "      <td>23327</td>\n",
       "    </tr>\n",
       "    <tr>\n",
       "      <th>4</th>\n",
       "      <td>27182</td>\n",
       "      <td>Male</td>\n",
       "      <td>33</td>\n",
       "      <td>8536</td>\n",
       "    </tr>\n",
       "  </tbody>\n",
       "</table>\n",
       "</div>"
      ],
      "text/plain": [
       "   Customer ID Gender  Age  Income (USD/Month)\n",
       "0        29290   Male   28               10813\n",
       "1        27703   Male   27                9237\n",
       "2        28712   Male   53               11242\n",
       "3        28020   Male   23               23327\n",
       "4        27182   Male   33                8536"
      ]
     },
     "execution_count": 19,
     "metadata": {},
     "output_type": "execute_result"
    }
   ],
   "source": [
    "customer_id.head()"
   ]
  },
  {
   "cell_type": "code",
   "execution_count": 20,
   "metadata": {},
   "outputs": [
    {
     "name": "stdout",
     "output_type": "stream",
     "text": [
      "<class 'pandas.core.frame.DataFrame'>\n",
      "RangeIndex: 49171 entries, 0 to 49170\n",
      "Data columns (total 4 columns):\n",
      " #   Column              Non-Null Count  Dtype \n",
      "---  ------              --------------  ----- \n",
      " 0   Customer ID         49171 non-null  int64 \n",
      " 1   Gender              49171 non-null  object\n",
      " 2   Age                 49171 non-null  int64 \n",
      " 3   Income (USD/Month)  49171 non-null  int64 \n",
      "dtypes: int64(3), object(1)\n",
      "memory usage: 1.5+ MB\n"
     ]
    }
   ],
   "source": [
    "customer_id.info()"
   ]
  },
  {
   "cell_type": "code",
   "execution_count": 21,
   "metadata": {},
   "outputs": [
    {
     "data": {
      "text/plain": [
       "(49171, 4)"
      ]
     },
     "execution_count": 21,
     "metadata": {},
     "output_type": "execute_result"
    }
   ],
   "source": [
    "customer_id.shape"
   ]
  },
  {
   "cell_type": "code",
   "execution_count": 22,
   "metadata": {},
   "outputs": [
    {
     "data": {
      "text/plain": [
       "0"
      ]
     },
     "execution_count": 22,
     "metadata": {},
     "output_type": "execute_result"
    }
   ],
   "source": [
    "customer_id[customer_id.duplicated(keep=False)].shape[0]"
   ]
  },
  {
   "cell_type": "code",
   "execution_count": 23,
   "metadata": {},
   "outputs": [
    {
     "data": {
      "text/plain": [
       "False"
      ]
     },
     "execution_count": 23,
     "metadata": {},
     "output_type": "execute_result"
    }
   ],
   "source": [
    "customer_id.isna().any().any()"
   ]
  },
  {
   "cell_type": "markdown",
   "metadata": {},
   "source": [
    "# Transaction Data"
   ]
  },
  {
   "cell_type": "code",
   "execution_count": 24,
   "metadata": {},
   "outputs": [
    {
     "data": {
      "text/html": [
       "<div>\n",
       "<style scoped>\n",
       "    .dataframe tbody tr th:only-of-type {\n",
       "        vertical-align: middle;\n",
       "    }\n",
       "\n",
       "    .dataframe tbody tr th {\n",
       "        vertical-align: top;\n",
       "    }\n",
       "\n",
       "    .dataframe thead th {\n",
       "        text-align: right;\n",
       "    }\n",
       "</style>\n",
       "<table border=\"1\" class=\"dataframe\">\n",
       "  <thead>\n",
       "    <tr style=\"text-align: right;\">\n",
       "      <th></th>\n",
       "      <th>Transaction ID</th>\n",
       "      <th>Customer ID</th>\n",
       "      <th>Payment_Mode</th>\n",
       "    </tr>\n",
       "  </thead>\n",
       "  <tbody>\n",
       "    <tr>\n",
       "      <th>0</th>\n",
       "      <td>10000011</td>\n",
       "      <td>29290</td>\n",
       "      <td>Card</td>\n",
       "    </tr>\n",
       "    <tr>\n",
       "      <th>1</th>\n",
       "      <td>10000012</td>\n",
       "      <td>27703</td>\n",
       "      <td>Card</td>\n",
       "    </tr>\n",
       "    <tr>\n",
       "      <th>2</th>\n",
       "      <td>10000013</td>\n",
       "      <td>28712</td>\n",
       "      <td>Cash</td>\n",
       "    </tr>\n",
       "    <tr>\n",
       "      <th>3</th>\n",
       "      <td>10000014</td>\n",
       "      <td>28020</td>\n",
       "      <td>Cash</td>\n",
       "    </tr>\n",
       "    <tr>\n",
       "      <th>4</th>\n",
       "      <td>10000015</td>\n",
       "      <td>27182</td>\n",
       "      <td>Card</td>\n",
       "    </tr>\n",
       "  </tbody>\n",
       "</table>\n",
       "</div>"
      ],
      "text/plain": [
       "   Transaction ID  Customer ID Payment_Mode\n",
       "0        10000011        29290         Card\n",
       "1        10000012        27703         Card\n",
       "2        10000013        28712         Cash\n",
       "3        10000014        28020         Cash\n",
       "4        10000015        27182         Card"
      ]
     },
     "execution_count": 24,
     "metadata": {},
     "output_type": "execute_result"
    }
   ],
   "source": [
    "transaction_id.head()"
   ]
  },
  {
   "cell_type": "code",
   "execution_count": 25,
   "metadata": {},
   "outputs": [
    {
     "name": "stdout",
     "output_type": "stream",
     "text": [
      "<class 'pandas.core.frame.DataFrame'>\n",
      "RangeIndex: 440098 entries, 0 to 440097\n",
      "Data columns (total 3 columns):\n",
      " #   Column          Non-Null Count   Dtype \n",
      "---  ------          --------------   ----- \n",
      " 0   Transaction ID  440098 non-null  int64 \n",
      " 1   Customer ID     440098 non-null  int64 \n",
      " 2   Payment_Mode    440098 non-null  object\n",
      "dtypes: int64(2), object(1)\n",
      "memory usage: 10.1+ MB\n"
     ]
    }
   ],
   "source": [
    "transaction_id.info()"
   ]
  },
  {
   "cell_type": "code",
   "execution_count": 26,
   "metadata": {},
   "outputs": [
    {
     "data": {
      "text/plain": [
       "(440098, 3)"
      ]
     },
     "execution_count": 26,
     "metadata": {},
     "output_type": "execute_result"
    }
   ],
   "source": [
    "transaction_id.shape"
   ]
  },
  {
   "cell_type": "code",
   "execution_count": 27,
   "metadata": {},
   "outputs": [
    {
     "data": {
      "text/plain": [
       "0"
      ]
     },
     "execution_count": 27,
     "metadata": {},
     "output_type": "execute_result"
    }
   ],
   "source": [
    "transaction_id[transaction_id.duplicated(keep=False)].shape[0]"
   ]
  },
  {
   "cell_type": "code",
   "execution_count": 28,
   "metadata": {},
   "outputs": [
    {
     "data": {
      "text/plain": [
       "False"
      ]
     },
     "execution_count": 28,
     "metadata": {},
     "output_type": "execute_result"
    }
   ],
   "source": [
    "transaction_id.isna().any().any()"
   ]
  },
  {
   "cell_type": "markdown",
   "metadata": {},
   "source": [
    "# Masterdata"
   ]
  },
  {
   "cell_type": "code",
   "execution_count": 29,
   "metadata": {},
   "outputs": [],
   "source": [
    "master_data = city.merge(cab, on = 'City').merge(transaction_id, on = \"Transaction ID\").merge(customer_id, on = \"Customer ID\")"
   ]
  },
  {
   "cell_type": "code",
   "execution_count": 30,
   "metadata": {},
   "outputs": [
    {
     "data": {
      "text/html": [
       "<div>\n",
       "<style scoped>\n",
       "    .dataframe tbody tr th:only-of-type {\n",
       "        vertical-align: middle;\n",
       "    }\n",
       "\n",
       "    .dataframe tbody tr th {\n",
       "        vertical-align: top;\n",
       "    }\n",
       "\n",
       "    .dataframe thead th {\n",
       "        text-align: right;\n",
       "    }\n",
       "</style>\n",
       "<table border=\"1\" class=\"dataframe\">\n",
       "  <thead>\n",
       "    <tr style=\"text-align: right;\">\n",
       "      <th></th>\n",
       "      <th>City</th>\n",
       "      <th>Population</th>\n",
       "      <th>Users</th>\n",
       "      <th>Transaction ID</th>\n",
       "      <th>Date of Travel</th>\n",
       "      <th>Company</th>\n",
       "      <th>KM Travelled</th>\n",
       "      <th>Price Charged</th>\n",
       "      <th>Cost of Trip</th>\n",
       "      <th>Customer ID</th>\n",
       "      <th>Payment_Mode</th>\n",
       "      <th>Gender</th>\n",
       "      <th>Age</th>\n",
       "      <th>Income (USD/Month)</th>\n",
       "    </tr>\n",
       "  </thead>\n",
       "  <tbody>\n",
       "    <tr>\n",
       "      <th>0</th>\n",
       "      <td>NEW YORK NY</td>\n",
       "      <td>8405837.0</td>\n",
       "      <td>302149.0</td>\n",
       "      <td>10001001</td>\n",
       "      <td>2016-01-01</td>\n",
       "      <td>Yellow Cab</td>\n",
       "      <td>46.80</td>\n",
       "      <td>1391.91</td>\n",
       "      <td>595.2960</td>\n",
       "      <td>2761</td>\n",
       "      <td>Card</td>\n",
       "      <td>Male</td>\n",
       "      <td>40</td>\n",
       "      <td>11462</td>\n",
       "    </tr>\n",
       "    <tr>\n",
       "      <th>1</th>\n",
       "      <td>NEW YORK NY</td>\n",
       "      <td>8405837.0</td>\n",
       "      <td>302149.0</td>\n",
       "      <td>10021391</td>\n",
       "      <td>2016-03-25</td>\n",
       "      <td>Yellow Cab</td>\n",
       "      <td>32.98</td>\n",
       "      <td>970.67</td>\n",
       "      <td>459.0816</td>\n",
       "      <td>2761</td>\n",
       "      <td>Card</td>\n",
       "      <td>Male</td>\n",
       "      <td>40</td>\n",
       "      <td>11462</td>\n",
       "    </tr>\n",
       "    <tr>\n",
       "      <th>2</th>\n",
       "      <td>NEW YORK NY</td>\n",
       "      <td>8405837.0</td>\n",
       "      <td>302149.0</td>\n",
       "      <td>10025115</td>\n",
       "      <td>2016-04-14</td>\n",
       "      <td>Yellow Cab</td>\n",
       "      <td>24.15</td>\n",
       "      <td>706.93</td>\n",
       "      <td>304.2900</td>\n",
       "      <td>2761</td>\n",
       "      <td>Card</td>\n",
       "      <td>Male</td>\n",
       "      <td>40</td>\n",
       "      <td>11462</td>\n",
       "    </tr>\n",
       "    <tr>\n",
       "      <th>3</th>\n",
       "      <td>NEW YORK NY</td>\n",
       "      <td>8405837.0</td>\n",
       "      <td>302149.0</td>\n",
       "      <td>10033040</td>\n",
       "      <td>2016-05-12</td>\n",
       "      <td>Yellow Cab</td>\n",
       "      <td>17.55</td>\n",
       "      <td>425.63</td>\n",
       "      <td>248.5080</td>\n",
       "      <td>2761</td>\n",
       "      <td>Card</td>\n",
       "      <td>Male</td>\n",
       "      <td>40</td>\n",
       "      <td>11462</td>\n",
       "    </tr>\n",
       "    <tr>\n",
       "      <th>4</th>\n",
       "      <td>NEW YORK NY</td>\n",
       "      <td>8405837.0</td>\n",
       "      <td>302149.0</td>\n",
       "      <td>10074198</td>\n",
       "      <td>2016-09-04</td>\n",
       "      <td>Yellow Cab</td>\n",
       "      <td>39.96</td>\n",
       "      <td>971.57</td>\n",
       "      <td>503.4960</td>\n",
       "      <td>2761</td>\n",
       "      <td>Card</td>\n",
       "      <td>Male</td>\n",
       "      <td>40</td>\n",
       "      <td>11462</td>\n",
       "    </tr>\n",
       "  </tbody>\n",
       "</table>\n",
       "</div>"
      ],
      "text/plain": [
       "          City  Population     Users  Transaction ID Date of Travel  \\\n",
       "0  NEW YORK NY   8405837.0  302149.0        10001001     2016-01-01   \n",
       "1  NEW YORK NY   8405837.0  302149.0        10021391     2016-03-25   \n",
       "2  NEW YORK NY   8405837.0  302149.0        10025115     2016-04-14   \n",
       "3  NEW YORK NY   8405837.0  302149.0        10033040     2016-05-12   \n",
       "4  NEW YORK NY   8405837.0  302149.0        10074198     2016-09-04   \n",
       "\n",
       "      Company  KM Travelled  Price Charged  Cost of Trip  Customer ID  \\\n",
       "0  Yellow Cab         46.80        1391.91      595.2960         2761   \n",
       "1  Yellow Cab         32.98         970.67      459.0816         2761   \n",
       "2  Yellow Cab         24.15         706.93      304.2900         2761   \n",
       "3  Yellow Cab         17.55         425.63      248.5080         2761   \n",
       "4  Yellow Cab         39.96         971.57      503.4960         2761   \n",
       "\n",
       "  Payment_Mode Gender  Age  Income (USD/Month)  \n",
       "0         Card   Male   40               11462  \n",
       "1         Card   Male   40               11462  \n",
       "2         Card   Male   40               11462  \n",
       "3         Card   Male   40               11462  \n",
       "4         Card   Male   40               11462  "
      ]
     },
     "execution_count": 30,
     "metadata": {},
     "output_type": "execute_result"
    }
   ],
   "source": [
    "master_data.head()"
   ]
  },
  {
   "cell_type": "code",
   "execution_count": 31,
   "metadata": {},
   "outputs": [],
   "source": [
    "master_data = master_data.sort_values(\"Date of Travel\")"
   ]
  },
  {
   "cell_type": "code",
   "execution_count": 32,
   "metadata": {},
   "outputs": [
    {
     "data": {
      "text/html": [
       "<div>\n",
       "<style scoped>\n",
       "    .dataframe tbody tr th:only-of-type {\n",
       "        vertical-align: middle;\n",
       "    }\n",
       "\n",
       "    .dataframe tbody tr th {\n",
       "        vertical-align: top;\n",
       "    }\n",
       "\n",
       "    .dataframe thead th {\n",
       "        text-align: right;\n",
       "    }\n",
       "</style>\n",
       "<table border=\"1\" class=\"dataframe\">\n",
       "  <thead>\n",
       "    <tr style=\"text-align: right;\">\n",
       "      <th></th>\n",
       "      <th>City</th>\n",
       "      <th>Population</th>\n",
       "      <th>Users</th>\n",
       "      <th>Transaction ID</th>\n",
       "      <th>Date of Travel</th>\n",
       "      <th>Company</th>\n",
       "      <th>KM Travelled</th>\n",
       "      <th>Price Charged</th>\n",
       "      <th>Cost of Trip</th>\n",
       "      <th>Customer ID</th>\n",
       "      <th>Payment_Mode</th>\n",
       "      <th>Gender</th>\n",
       "      <th>Age</th>\n",
       "      <th>Income (USD/Month)</th>\n",
       "      <th>Year</th>\n",
       "      <th>Month</th>\n",
       "      <th>Day</th>\n",
       "    </tr>\n",
       "  </thead>\n",
       "  <tbody>\n",
       "    <tr>\n",
       "      <th>0</th>\n",
       "      <td>NEW YORK NY</td>\n",
       "      <td>8405837.0</td>\n",
       "      <td>302149.0</td>\n",
       "      <td>10001001</td>\n",
       "      <td>2016-01-01</td>\n",
       "      <td>Yellow Cab</td>\n",
       "      <td>46.80</td>\n",
       "      <td>1391.91</td>\n",
       "      <td>595.2960</td>\n",
       "      <td>2761</td>\n",
       "      <td>Card</td>\n",
       "      <td>Male</td>\n",
       "      <td>40</td>\n",
       "      <td>11462</td>\n",
       "      <td>2016</td>\n",
       "      <td>1</td>\n",
       "      <td>1</td>\n",
       "    </tr>\n",
       "    <tr>\n",
       "      <th>1108</th>\n",
       "      <td>NEW YORK NY</td>\n",
       "      <td>8405837.0</td>\n",
       "      <td>302149.0</td>\n",
       "      <td>10000864</td>\n",
       "      <td>2016-01-01</td>\n",
       "      <td>Yellow Cab</td>\n",
       "      <td>15.68</td>\n",
       "      <td>484.49</td>\n",
       "      <td>191.9232</td>\n",
       "      <td>1405</td>\n",
       "      <td>Card</td>\n",
       "      <td>Male</td>\n",
       "      <td>64</td>\n",
       "      <td>12353</td>\n",
       "      <td>2016</td>\n",
       "      <td>1</td>\n",
       "      <td>1</td>\n",
       "    </tr>\n",
       "    <tr>\n",
       "      <th>1066</th>\n",
       "      <td>NEW YORK NY</td>\n",
       "      <td>8405837.0</td>\n",
       "      <td>302149.0</td>\n",
       "      <td>10000865</td>\n",
       "      <td>2016-01-01</td>\n",
       "      <td>Yellow Cab</td>\n",
       "      <td>5.88</td>\n",
       "      <td>176.12</td>\n",
       "      <td>72.6768</td>\n",
       "      <td>2911</td>\n",
       "      <td>Card</td>\n",
       "      <td>Male</td>\n",
       "      <td>57</td>\n",
       "      <td>13404</td>\n",
       "      <td>2016</td>\n",
       "      <td>1</td>\n",
       "      <td>1</td>\n",
       "    </tr>\n",
       "    <tr>\n",
       "      <th>1030</th>\n",
       "      <td>NEW YORK NY</td>\n",
       "      <td>8405837.0</td>\n",
       "      <td>302149.0</td>\n",
       "      <td>10000853</td>\n",
       "      <td>2016-01-01</td>\n",
       "      <td>Yellow Cab</td>\n",
       "      <td>19.76</td>\n",
       "      <td>703.20</td>\n",
       "      <td>248.9760</td>\n",
       "      <td>2760</td>\n",
       "      <td>Card</td>\n",
       "      <td>Male</td>\n",
       "      <td>21</td>\n",
       "      <td>4399</td>\n",
       "      <td>2016</td>\n",
       "      <td>1</td>\n",
       "      <td>1</td>\n",
       "    </tr>\n",
       "    <tr>\n",
       "      <th>990</th>\n",
       "      <td>NEW YORK NY</td>\n",
       "      <td>8405837.0</td>\n",
       "      <td>302149.0</td>\n",
       "      <td>10000883</td>\n",
       "      <td>2016-01-01</td>\n",
       "      <td>Yellow Cab</td>\n",
       "      <td>27.27</td>\n",
       "      <td>848.51</td>\n",
       "      <td>333.7848</td>\n",
       "      <td>2794</td>\n",
       "      <td>Cash</td>\n",
       "      <td>Male</td>\n",
       "      <td>59</td>\n",
       "      <td>5342</td>\n",
       "      <td>2016</td>\n",
       "      <td>1</td>\n",
       "      <td>1</td>\n",
       "    </tr>\n",
       "  </tbody>\n",
       "</table>\n",
       "</div>"
      ],
      "text/plain": [
       "             City  Population     Users  Transaction ID Date of Travel  \\\n",
       "0     NEW YORK NY   8405837.0  302149.0        10001001     2016-01-01   \n",
       "1108  NEW YORK NY   8405837.0  302149.0        10000864     2016-01-01   \n",
       "1066  NEW YORK NY   8405837.0  302149.0        10000865     2016-01-01   \n",
       "1030  NEW YORK NY   8405837.0  302149.0        10000853     2016-01-01   \n",
       "990   NEW YORK NY   8405837.0  302149.0        10000883     2016-01-01   \n",
       "\n",
       "         Company  KM Travelled  Price Charged  Cost of Trip  Customer ID  \\\n",
       "0     Yellow Cab         46.80        1391.91      595.2960         2761   \n",
       "1108  Yellow Cab         15.68         484.49      191.9232         1405   \n",
       "1066  Yellow Cab          5.88         176.12       72.6768         2911   \n",
       "1030  Yellow Cab         19.76         703.20      248.9760         2760   \n",
       "990   Yellow Cab         27.27         848.51      333.7848         2794   \n",
       "\n",
       "     Payment_Mode Gender  Age  Income (USD/Month)  Year  Month  Day  \n",
       "0            Card   Male   40               11462  2016      1    1  \n",
       "1108         Card   Male   64               12353  2016      1    1  \n",
       "1066         Card   Male   57               13404  2016      1    1  \n",
       "1030         Card   Male   21                4399  2016      1    1  \n",
       "990          Cash   Male   59                5342  2016      1    1  "
      ]
     },
     "execution_count": 32,
     "metadata": {},
     "output_type": "execute_result"
    }
   ],
   "source": [
    "master_data['Year'] = master_data['Date of Travel'].dt.year\n",
    "master_data['Month'] = master_data['Date of Travel'].dt.month\n",
    "master_data['Day'] = master_data['Date of Travel'].dt.day\n",
    "master_data.head()"
   ]
  },
  {
   "cell_type": "code",
   "execution_count": 33,
   "metadata": {},
   "outputs": [
    {
     "data": {
      "text/plain": [
       "(359392, 17)"
      ]
     },
     "execution_count": 33,
     "metadata": {},
     "output_type": "execute_result"
    }
   ],
   "source": [
    "master_data.shape"
   ]
  },
  {
   "cell_type": "code",
   "execution_count": 34,
   "metadata": {},
   "outputs": [
    {
     "name": "stdout",
     "output_type": "stream",
     "text": [
      "<class 'pandas.core.frame.DataFrame'>\n",
      "Int64Index: 359392 entries, 0 to 182928\n",
      "Data columns (total 17 columns):\n",
      " #   Column              Non-Null Count   Dtype         \n",
      "---  ------              --------------   -----         \n",
      " 0   City                359392 non-null  object        \n",
      " 1   Population          359392 non-null  float64       \n",
      " 2   Users               359392 non-null  float64       \n",
      " 3   Transaction ID      359392 non-null  int64         \n",
      " 4   Date of Travel      359392 non-null  datetime64[ns]\n",
      " 5   Company             359392 non-null  object        \n",
      " 6   KM Travelled        359392 non-null  float64       \n",
      " 7   Price Charged       359392 non-null  float64       \n",
      " 8   Cost of Trip        359392 non-null  float64       \n",
      " 9   Customer ID         359392 non-null  int64         \n",
      " 10  Payment_Mode        359392 non-null  object        \n",
      " 11  Gender              359392 non-null  object        \n",
      " 12  Age                 359392 non-null  int64         \n",
      " 13  Income (USD/Month)  359392 non-null  int64         \n",
      " 14  Year                359392 non-null  int64         \n",
      " 15  Month               359392 non-null  int64         \n",
      " 16  Day                 359392 non-null  int64         \n",
      "dtypes: datetime64[ns](1), float64(5), int64(7), object(4)\n",
      "memory usage: 49.4+ MB\n"
     ]
    }
   ],
   "source": [
    "master_data.info()"
   ]
  },
  {
   "cell_type": "code",
   "execution_count": 35,
   "metadata": {},
   "outputs": [
    {
     "data": {
      "text/plain": [
       "False"
      ]
     },
     "execution_count": 35,
     "metadata": {},
     "output_type": "execute_result"
    }
   ],
   "source": [
    "master_data.isna().any().any()"
   ]
  },
  {
   "cell_type": "code",
   "execution_count": 36,
   "metadata": {},
   "outputs": [
    {
     "data": {
      "text/plain": [
       "0"
      ]
     },
     "execution_count": 36,
     "metadata": {},
     "output_type": "execute_result"
    }
   ],
   "source": [
    "master_data[master_data.duplicated(keep=False)].shape[0]"
   ]
  },
  {
   "cell_type": "code",
   "execution_count": 37,
   "metadata": {},
   "outputs": [
    {
     "data": {
      "text/html": [
       "<div>\n",
       "<style scoped>\n",
       "    .dataframe tbody tr th:only-of-type {\n",
       "        vertical-align: middle;\n",
       "    }\n",
       "\n",
       "    .dataframe tbody tr th {\n",
       "        vertical-align: top;\n",
       "    }\n",
       "\n",
       "    .dataframe thead th {\n",
       "        text-align: right;\n",
       "    }\n",
       "</style>\n",
       "<table border=\"1\" class=\"dataframe\">\n",
       "  <thead>\n",
       "    <tr style=\"text-align: right;\">\n",
       "      <th></th>\n",
       "      <th>City</th>\n",
       "      <th>Population</th>\n",
       "      <th>Users</th>\n",
       "      <th>Transaction ID</th>\n",
       "      <th>Date of Travel</th>\n",
       "      <th>Company</th>\n",
       "      <th>KM Travelled</th>\n",
       "      <th>Price Charged</th>\n",
       "      <th>Cost of Trip</th>\n",
       "      <th>Customer ID</th>\n",
       "      <th>Payment_Mode</th>\n",
       "      <th>Gender</th>\n",
       "      <th>Age</th>\n",
       "      <th>Income (USD/Month)</th>\n",
       "      <th>Year</th>\n",
       "      <th>Month</th>\n",
       "      <th>Day</th>\n",
       "    </tr>\n",
       "  </thead>\n",
       "  <tbody>\n",
       "    <tr>\n",
       "      <th>223546</th>\n",
       "      <td>SAN DIEGO CA</td>\n",
       "      <td>959307.0</td>\n",
       "      <td>69995.0</td>\n",
       "      <td>10000201</td>\n",
       "      <td>2016-01-01</td>\n",
       "      <td>Pink Cab</td>\n",
       "      <td>31.68</td>\n",
       "      <td>623.77</td>\n",
       "      <td>370.656</td>\n",
       "      <td>18490</td>\n",
       "      <td>Card</td>\n",
       "      <td>Male</td>\n",
       "      <td>24</td>\n",
       "      <td>10573</td>\n",
       "      <td>2016</td>\n",
       "      <td>1</td>\n",
       "      <td>1</td>\n",
       "    </tr>\n",
       "    <tr>\n",
       "      <th>223520</th>\n",
       "      <td>SAN DIEGO CA</td>\n",
       "      <td>959307.0</td>\n",
       "      <td>69995.0</td>\n",
       "      <td>10000189</td>\n",
       "      <td>2016-01-01</td>\n",
       "      <td>Pink Cab</td>\n",
       "      <td>41.76</td>\n",
       "      <td>793.63</td>\n",
       "      <td>476.064</td>\n",
       "      <td>18488</td>\n",
       "      <td>Cash</td>\n",
       "      <td>Male</td>\n",
       "      <td>37</td>\n",
       "      <td>22441</td>\n",
       "      <td>2016</td>\n",
       "      <td>1</td>\n",
       "      <td>1</td>\n",
       "    </tr>\n",
       "    <tr>\n",
       "      <th>223516</th>\n",
       "      <td>SAN DIEGO CA</td>\n",
       "      <td>959307.0</td>\n",
       "      <td>69995.0</td>\n",
       "      <td>10000187</td>\n",
       "      <td>2016-01-01</td>\n",
       "      <td>Pink Cab</td>\n",
       "      <td>23.80</td>\n",
       "      <td>485.21</td>\n",
       "      <td>252.280</td>\n",
       "      <td>18817</td>\n",
       "      <td>Cash</td>\n",
       "      <td>Male</td>\n",
       "      <td>40</td>\n",
       "      <td>5038</td>\n",
       "      <td>2016</td>\n",
       "      <td>1</td>\n",
       "      <td>1</td>\n",
       "    </tr>\n",
       "    <tr>\n",
       "      <th>223506</th>\n",
       "      <td>SAN DIEGO CA</td>\n",
       "      <td>959307.0</td>\n",
       "      <td>69995.0</td>\n",
       "      <td>10000182</td>\n",
       "      <td>2016-01-01</td>\n",
       "      <td>Pink Cab</td>\n",
       "      <td>2.36</td>\n",
       "      <td>47.89</td>\n",
       "      <td>23.600</td>\n",
       "      <td>18418</td>\n",
       "      <td>Cash</td>\n",
       "      <td>Male</td>\n",
       "      <td>39</td>\n",
       "      <td>13112</td>\n",
       "      <td>2016</td>\n",
       "      <td>1</td>\n",
       "      <td>1</td>\n",
       "    </tr>\n",
       "    <tr>\n",
       "      <th>223498</th>\n",
       "      <td>SAN DIEGO CA</td>\n",
       "      <td>959307.0</td>\n",
       "      <td>69995.0</td>\n",
       "      <td>10000171</td>\n",
       "      <td>2016-01-01</td>\n",
       "      <td>Pink Cab</td>\n",
       "      <td>14.28</td>\n",
       "      <td>269.15</td>\n",
       "      <td>147.084</td>\n",
       "      <td>20687</td>\n",
       "      <td>Cash</td>\n",
       "      <td>Male</td>\n",
       "      <td>39</td>\n",
       "      <td>8926</td>\n",
       "      <td>2016</td>\n",
       "      <td>1</td>\n",
       "      <td>1</td>\n",
       "    </tr>\n",
       "  </tbody>\n",
       "</table>\n",
       "</div>"
      ],
      "text/plain": [
       "                City  Population    Users  Transaction ID Date of Travel  \\\n",
       "223546  SAN DIEGO CA    959307.0  69995.0        10000201     2016-01-01   \n",
       "223520  SAN DIEGO CA    959307.0  69995.0        10000189     2016-01-01   \n",
       "223516  SAN DIEGO CA    959307.0  69995.0        10000187     2016-01-01   \n",
       "223506  SAN DIEGO CA    959307.0  69995.0        10000182     2016-01-01   \n",
       "223498  SAN DIEGO CA    959307.0  69995.0        10000171     2016-01-01   \n",
       "\n",
       "         Company  KM Travelled  Price Charged  Cost of Trip  Customer ID  \\\n",
       "223546  Pink Cab         31.68         623.77       370.656        18490   \n",
       "223520  Pink Cab         41.76         793.63       476.064        18488   \n",
       "223516  Pink Cab         23.80         485.21       252.280        18817   \n",
       "223506  Pink Cab          2.36          47.89        23.600        18418   \n",
       "223498  Pink Cab         14.28         269.15       147.084        20687   \n",
       "\n",
       "       Payment_Mode Gender  Age  Income (USD/Month)  Year  Month  Day  \n",
       "223546         Card   Male   24               10573  2016      1    1  \n",
       "223520         Cash   Male   37               22441  2016      1    1  \n",
       "223516         Cash   Male   40                5038  2016      1    1  \n",
       "223506         Cash   Male   39               13112  2016      1    1  \n",
       "223498         Cash   Male   39                8926  2016      1    1  "
      ]
     },
     "execution_count": 37,
     "metadata": {},
     "output_type": "execute_result"
    }
   ],
   "source": [
    "pinkcab = master_data[master_data[\"Company\"] == \"Pink Cab\"]\n",
    "pinkcab.head()"
   ]
  },
  {
   "cell_type": "code",
   "execution_count": 38,
   "metadata": {},
   "outputs": [
    {
     "data": {
      "text/html": [
       "<div>\n",
       "<style scoped>\n",
       "    .dataframe tbody tr th:only-of-type {\n",
       "        vertical-align: middle;\n",
       "    }\n",
       "\n",
       "    .dataframe tbody tr th {\n",
       "        vertical-align: top;\n",
       "    }\n",
       "\n",
       "    .dataframe thead th {\n",
       "        text-align: right;\n",
       "    }\n",
       "</style>\n",
       "<table border=\"1\" class=\"dataframe\">\n",
       "  <thead>\n",
       "    <tr style=\"text-align: right;\">\n",
       "      <th></th>\n",
       "      <th>City</th>\n",
       "      <th>Population</th>\n",
       "      <th>Users</th>\n",
       "      <th>Transaction ID</th>\n",
       "      <th>Date of Travel</th>\n",
       "      <th>Company</th>\n",
       "      <th>KM Travelled</th>\n",
       "      <th>Price Charged</th>\n",
       "      <th>Cost of Trip</th>\n",
       "      <th>Customer ID</th>\n",
       "      <th>Payment_Mode</th>\n",
       "      <th>Gender</th>\n",
       "      <th>Age</th>\n",
       "      <th>Income (USD/Month)</th>\n",
       "      <th>Year</th>\n",
       "      <th>Month</th>\n",
       "      <th>Day</th>\n",
       "    </tr>\n",
       "  </thead>\n",
       "  <tbody>\n",
       "    <tr>\n",
       "      <th>0</th>\n",
       "      <td>NEW YORK NY</td>\n",
       "      <td>8405837.0</td>\n",
       "      <td>302149.0</td>\n",
       "      <td>10001001</td>\n",
       "      <td>2016-01-01</td>\n",
       "      <td>Yellow Cab</td>\n",
       "      <td>46.80</td>\n",
       "      <td>1391.91</td>\n",
       "      <td>595.2960</td>\n",
       "      <td>2761</td>\n",
       "      <td>Card</td>\n",
       "      <td>Male</td>\n",
       "      <td>40</td>\n",
       "      <td>11462</td>\n",
       "      <td>2016</td>\n",
       "      <td>1</td>\n",
       "      <td>1</td>\n",
       "    </tr>\n",
       "    <tr>\n",
       "      <th>1108</th>\n",
       "      <td>NEW YORK NY</td>\n",
       "      <td>8405837.0</td>\n",
       "      <td>302149.0</td>\n",
       "      <td>10000864</td>\n",
       "      <td>2016-01-01</td>\n",
       "      <td>Yellow Cab</td>\n",
       "      <td>15.68</td>\n",
       "      <td>484.49</td>\n",
       "      <td>191.9232</td>\n",
       "      <td>1405</td>\n",
       "      <td>Card</td>\n",
       "      <td>Male</td>\n",
       "      <td>64</td>\n",
       "      <td>12353</td>\n",
       "      <td>2016</td>\n",
       "      <td>1</td>\n",
       "      <td>1</td>\n",
       "    </tr>\n",
       "    <tr>\n",
       "      <th>1066</th>\n",
       "      <td>NEW YORK NY</td>\n",
       "      <td>8405837.0</td>\n",
       "      <td>302149.0</td>\n",
       "      <td>10000865</td>\n",
       "      <td>2016-01-01</td>\n",
       "      <td>Yellow Cab</td>\n",
       "      <td>5.88</td>\n",
       "      <td>176.12</td>\n",
       "      <td>72.6768</td>\n",
       "      <td>2911</td>\n",
       "      <td>Card</td>\n",
       "      <td>Male</td>\n",
       "      <td>57</td>\n",
       "      <td>13404</td>\n",
       "      <td>2016</td>\n",
       "      <td>1</td>\n",
       "      <td>1</td>\n",
       "    </tr>\n",
       "    <tr>\n",
       "      <th>1030</th>\n",
       "      <td>NEW YORK NY</td>\n",
       "      <td>8405837.0</td>\n",
       "      <td>302149.0</td>\n",
       "      <td>10000853</td>\n",
       "      <td>2016-01-01</td>\n",
       "      <td>Yellow Cab</td>\n",
       "      <td>19.76</td>\n",
       "      <td>703.20</td>\n",
       "      <td>248.9760</td>\n",
       "      <td>2760</td>\n",
       "      <td>Card</td>\n",
       "      <td>Male</td>\n",
       "      <td>21</td>\n",
       "      <td>4399</td>\n",
       "      <td>2016</td>\n",
       "      <td>1</td>\n",
       "      <td>1</td>\n",
       "    </tr>\n",
       "    <tr>\n",
       "      <th>990</th>\n",
       "      <td>NEW YORK NY</td>\n",
       "      <td>8405837.0</td>\n",
       "      <td>302149.0</td>\n",
       "      <td>10000883</td>\n",
       "      <td>2016-01-01</td>\n",
       "      <td>Yellow Cab</td>\n",
       "      <td>27.27</td>\n",
       "      <td>848.51</td>\n",
       "      <td>333.7848</td>\n",
       "      <td>2794</td>\n",
       "      <td>Cash</td>\n",
       "      <td>Male</td>\n",
       "      <td>59</td>\n",
       "      <td>5342</td>\n",
       "      <td>2016</td>\n",
       "      <td>1</td>\n",
       "      <td>1</td>\n",
       "    </tr>\n",
       "  </tbody>\n",
       "</table>\n",
       "</div>"
      ],
      "text/plain": [
       "             City  Population     Users  Transaction ID Date of Travel  \\\n",
       "0     NEW YORK NY   8405837.0  302149.0        10001001     2016-01-01   \n",
       "1108  NEW YORK NY   8405837.0  302149.0        10000864     2016-01-01   \n",
       "1066  NEW YORK NY   8405837.0  302149.0        10000865     2016-01-01   \n",
       "1030  NEW YORK NY   8405837.0  302149.0        10000853     2016-01-01   \n",
       "990   NEW YORK NY   8405837.0  302149.0        10000883     2016-01-01   \n",
       "\n",
       "         Company  KM Travelled  Price Charged  Cost of Trip  Customer ID  \\\n",
       "0     Yellow Cab         46.80        1391.91      595.2960         2761   \n",
       "1108  Yellow Cab         15.68         484.49      191.9232         1405   \n",
       "1066  Yellow Cab          5.88         176.12       72.6768         2911   \n",
       "1030  Yellow Cab         19.76         703.20      248.9760         2760   \n",
       "990   Yellow Cab         27.27         848.51      333.7848         2794   \n",
       "\n",
       "     Payment_Mode Gender  Age  Income (USD/Month)  Year  Month  Day  \n",
       "0            Card   Male   40               11462  2016      1    1  \n",
       "1108         Card   Male   64               12353  2016      1    1  \n",
       "1066         Card   Male   57               13404  2016      1    1  \n",
       "1030         Card   Male   21                4399  2016      1    1  \n",
       "990          Cash   Male   59                5342  2016      1    1  "
      ]
     },
     "execution_count": 38,
     "metadata": {},
     "output_type": "execute_result"
    }
   ],
   "source": [
    "yellowcab = master_data[master_data[\"Company\"] == \"Yellow Cab\"]\n",
    "yellowcab.head()"
   ]
  },
  {
   "cell_type": "markdown",
   "metadata": {},
   "source": [
    "Until now I cleaned, merged and controled data sets. Also, I converted data type and seperated \"Date of Travel\" to analyse it easily later. After here, I'm gonna visualize my data and try to conclude it."
   ]
  },
  {
   "cell_type": "markdown",
   "metadata": {},
   "source": [
    "# EDA"
   ]
  },
  {
   "cell_type": "code",
   "execution_count": 39,
   "metadata": {},
   "outputs": [
    {
     "data": {
      "text/html": [
       "<div>\n",
       "<style scoped>\n",
       "    .dataframe tbody tr th:only-of-type {\n",
       "        vertical-align: middle;\n",
       "    }\n",
       "\n",
       "    .dataframe tbody tr th {\n",
       "        vertical-align: top;\n",
       "    }\n",
       "\n",
       "    .dataframe thead th {\n",
       "        text-align: right;\n",
       "    }\n",
       "</style>\n",
       "<table border=\"1\" class=\"dataframe\">\n",
       "  <thead>\n",
       "    <tr style=\"text-align: right;\">\n",
       "      <th></th>\n",
       "      <th>Population</th>\n",
       "      <th>Users</th>\n",
       "      <th>Transaction ID</th>\n",
       "      <th>KM Travelled</th>\n",
       "      <th>Price Charged</th>\n",
       "      <th>Cost of Trip</th>\n",
       "      <th>Customer ID</th>\n",
       "      <th>Age</th>\n",
       "      <th>Income (USD/Month)</th>\n",
       "      <th>Year</th>\n",
       "      <th>Month</th>\n",
       "      <th>Day</th>\n",
       "    </tr>\n",
       "  </thead>\n",
       "  <tbody>\n",
       "    <tr>\n",
       "      <th>Population</th>\n",
       "      <td>1.000000</td>\n",
       "      <td>0.915490</td>\n",
       "      <td>0.023868</td>\n",
       "      <td>-0.002311</td>\n",
       "      <td>0.326589</td>\n",
       "      <td>0.015108</td>\n",
       "      <td>-0.647052</td>\n",
       "      <td>-0.009002</td>\n",
       "      <td>0.011868</td>\n",
       "      <td>0.000061</td>\n",
       "      <td>0.064827</td>\n",
       "      <td>-0.000396</td>\n",
       "    </tr>\n",
       "    <tr>\n",
       "      <th>Users</th>\n",
       "      <td>0.915490</td>\n",
       "      <td>1.000000</td>\n",
       "      <td>0.013526</td>\n",
       "      <td>-0.000428</td>\n",
       "      <td>0.281061</td>\n",
       "      <td>0.023628</td>\n",
       "      <td>-0.610742</td>\n",
       "      <td>-0.005906</td>\n",
       "      <td>0.010464</td>\n",
       "      <td>-0.000556</td>\n",
       "      <td>0.036285</td>\n",
       "      <td>-0.001356</td>\n",
       "    </tr>\n",
       "    <tr>\n",
       "      <th>Transaction ID</th>\n",
       "      <td>0.023868</td>\n",
       "      <td>0.013526</td>\n",
       "      <td>1.000000</td>\n",
       "      <td>-0.001429</td>\n",
       "      <td>-0.052902</td>\n",
       "      <td>-0.003462</td>\n",
       "      <td>-0.016912</td>\n",
       "      <td>-0.001267</td>\n",
       "      <td>-0.001570</td>\n",
       "      <td>0.941475</td>\n",
       "      <td>0.284724</td>\n",
       "      <td>0.014824</td>\n",
       "    </tr>\n",
       "    <tr>\n",
       "      <th>KM Travelled</th>\n",
       "      <td>-0.002311</td>\n",
       "      <td>-0.000428</td>\n",
       "      <td>-0.001429</td>\n",
       "      <td>1.000000</td>\n",
       "      <td>0.835753</td>\n",
       "      <td>0.981848</td>\n",
       "      <td>0.000389</td>\n",
       "      <td>-0.000369</td>\n",
       "      <td>-0.000544</td>\n",
       "      <td>-0.001094</td>\n",
       "      <td>-0.001773</td>\n",
       "      <td>0.000767</td>\n",
       "    </tr>\n",
       "    <tr>\n",
       "      <th>Price Charged</th>\n",
       "      <td>0.326589</td>\n",
       "      <td>0.281061</td>\n",
       "      <td>-0.052902</td>\n",
       "      <td>0.835753</td>\n",
       "      <td>1.000000</td>\n",
       "      <td>0.859812</td>\n",
       "      <td>-0.177324</td>\n",
       "      <td>-0.003084</td>\n",
       "      <td>0.003228</td>\n",
       "      <td>-0.036903</td>\n",
       "      <td>-0.059639</td>\n",
       "      <td>-0.006820</td>\n",
       "    </tr>\n",
       "    <tr>\n",
       "      <th>Cost of Trip</th>\n",
       "      <td>0.015108</td>\n",
       "      <td>0.023628</td>\n",
       "      <td>-0.003462</td>\n",
       "      <td>0.981848</td>\n",
       "      <td>0.859812</td>\n",
       "      <td>1.000000</td>\n",
       "      <td>0.003077</td>\n",
       "      <td>-0.000189</td>\n",
       "      <td>-0.000633</td>\n",
       "      <td>-0.001766</td>\n",
       "      <td>-0.008309</td>\n",
       "      <td>0.000726</td>\n",
       "    </tr>\n",
       "    <tr>\n",
       "      <th>Customer ID</th>\n",
       "      <td>-0.647052</td>\n",
       "      <td>-0.610742</td>\n",
       "      <td>-0.016912</td>\n",
       "      <td>0.000389</td>\n",
       "      <td>-0.177324</td>\n",
       "      <td>0.003077</td>\n",
       "      <td>1.000000</td>\n",
       "      <td>-0.004735</td>\n",
       "      <td>-0.013608</td>\n",
       "      <td>-0.002480</td>\n",
       "      <td>-0.045030</td>\n",
       "      <td>0.000763</td>\n",
       "    </tr>\n",
       "    <tr>\n",
       "      <th>Age</th>\n",
       "      <td>-0.009002</td>\n",
       "      <td>-0.005906</td>\n",
       "      <td>-0.001267</td>\n",
       "      <td>-0.000369</td>\n",
       "      <td>-0.003084</td>\n",
       "      <td>-0.000189</td>\n",
       "      <td>-0.004735</td>\n",
       "      <td>1.000000</td>\n",
       "      <td>0.003907</td>\n",
       "      <td>-0.000497</td>\n",
       "      <td>-0.002376</td>\n",
       "      <td>-0.002291</td>\n",
       "    </tr>\n",
       "    <tr>\n",
       "      <th>Income (USD/Month)</th>\n",
       "      <td>0.011868</td>\n",
       "      <td>0.010464</td>\n",
       "      <td>-0.001570</td>\n",
       "      <td>-0.000544</td>\n",
       "      <td>0.003228</td>\n",
       "      <td>-0.000633</td>\n",
       "      <td>-0.013608</td>\n",
       "      <td>0.003907</td>\n",
       "      <td>1.000000</td>\n",
       "      <td>-0.001679</td>\n",
       "      <td>0.000585</td>\n",
       "      <td>0.000927</td>\n",
       "    </tr>\n",
       "    <tr>\n",
       "      <th>Year</th>\n",
       "      <td>0.000061</td>\n",
       "      <td>-0.000556</td>\n",
       "      <td>0.941475</td>\n",
       "      <td>-0.001094</td>\n",
       "      <td>-0.036903</td>\n",
       "      <td>-0.001766</td>\n",
       "      <td>-0.002480</td>\n",
       "      <td>-0.000497</td>\n",
       "      <td>-0.001679</td>\n",
       "      <td>1.000000</td>\n",
       "      <td>-0.033169</td>\n",
       "      <td>-0.022449</td>\n",
       "    </tr>\n",
       "    <tr>\n",
       "      <th>Month</th>\n",
       "      <td>0.064827</td>\n",
       "      <td>0.036285</td>\n",
       "      <td>0.284724</td>\n",
       "      <td>-0.001773</td>\n",
       "      <td>-0.059639</td>\n",
       "      <td>-0.008309</td>\n",
       "      <td>-0.045030</td>\n",
       "      <td>-0.002376</td>\n",
       "      <td>0.000585</td>\n",
       "      <td>-0.033169</td>\n",
       "      <td>1.000000</td>\n",
       "      <td>0.055164</td>\n",
       "    </tr>\n",
       "    <tr>\n",
       "      <th>Day</th>\n",
       "      <td>-0.000396</td>\n",
       "      <td>-0.001356</td>\n",
       "      <td>0.014824</td>\n",
       "      <td>0.000767</td>\n",
       "      <td>-0.006820</td>\n",
       "      <td>0.000726</td>\n",
       "      <td>0.000763</td>\n",
       "      <td>-0.002291</td>\n",
       "      <td>0.000927</td>\n",
       "      <td>-0.022449</td>\n",
       "      <td>0.055164</td>\n",
       "      <td>1.000000</td>\n",
       "    </tr>\n",
       "  </tbody>\n",
       "</table>\n",
       "</div>"
      ],
      "text/plain": [
       "                    Population     Users  Transaction ID  KM Travelled  \\\n",
       "Population            1.000000  0.915490        0.023868     -0.002311   \n",
       "Users                 0.915490  1.000000        0.013526     -0.000428   \n",
       "Transaction ID        0.023868  0.013526        1.000000     -0.001429   \n",
       "KM Travelled         -0.002311 -0.000428       -0.001429      1.000000   \n",
       "Price Charged         0.326589  0.281061       -0.052902      0.835753   \n",
       "Cost of Trip          0.015108  0.023628       -0.003462      0.981848   \n",
       "Customer ID          -0.647052 -0.610742       -0.016912      0.000389   \n",
       "Age                  -0.009002 -0.005906       -0.001267     -0.000369   \n",
       "Income (USD/Month)    0.011868  0.010464       -0.001570     -0.000544   \n",
       "Year                  0.000061 -0.000556        0.941475     -0.001094   \n",
       "Month                 0.064827  0.036285        0.284724     -0.001773   \n",
       "Day                  -0.000396 -0.001356        0.014824      0.000767   \n",
       "\n",
       "                    Price Charged  Cost of Trip  Customer ID       Age  \\\n",
       "Population               0.326589      0.015108    -0.647052 -0.009002   \n",
       "Users                    0.281061      0.023628    -0.610742 -0.005906   \n",
       "Transaction ID          -0.052902     -0.003462    -0.016912 -0.001267   \n",
       "KM Travelled             0.835753      0.981848     0.000389 -0.000369   \n",
       "Price Charged            1.000000      0.859812    -0.177324 -0.003084   \n",
       "Cost of Trip             0.859812      1.000000     0.003077 -0.000189   \n",
       "Customer ID             -0.177324      0.003077     1.000000 -0.004735   \n",
       "Age                     -0.003084     -0.000189    -0.004735  1.000000   \n",
       "Income (USD/Month)       0.003228     -0.000633    -0.013608  0.003907   \n",
       "Year                    -0.036903     -0.001766    -0.002480 -0.000497   \n",
       "Month                   -0.059639     -0.008309    -0.045030 -0.002376   \n",
       "Day                     -0.006820      0.000726     0.000763 -0.002291   \n",
       "\n",
       "                    Income (USD/Month)      Year     Month       Day  \n",
       "Population                    0.011868  0.000061  0.064827 -0.000396  \n",
       "Users                         0.010464 -0.000556  0.036285 -0.001356  \n",
       "Transaction ID               -0.001570  0.941475  0.284724  0.014824  \n",
       "KM Travelled                 -0.000544 -0.001094 -0.001773  0.000767  \n",
       "Price Charged                 0.003228 -0.036903 -0.059639 -0.006820  \n",
       "Cost of Trip                 -0.000633 -0.001766 -0.008309  0.000726  \n",
       "Customer ID                  -0.013608 -0.002480 -0.045030  0.000763  \n",
       "Age                           0.003907 -0.000497 -0.002376 -0.002291  \n",
       "Income (USD/Month)            1.000000 -0.001679  0.000585  0.000927  \n",
       "Year                         -0.001679  1.000000 -0.033169 -0.022449  \n",
       "Month                         0.000585 -0.033169  1.000000  0.055164  \n",
       "Day                           0.000927 -0.022449  0.055164  1.000000  "
      ]
     },
     "execution_count": 39,
     "metadata": {},
     "output_type": "execute_result"
    }
   ],
   "source": [
    "master_data.corr()"
   ]
  },
  {
   "cell_type": "code",
   "execution_count": 40,
   "metadata": {},
   "outputs": [
    {
     "data": {
      "text/plain": [
       "<matplotlib.axes._subplots.AxesSubplot at 0x1ac26f72040>"
      ]
     },
     "execution_count": 40,
     "metadata": {},
     "output_type": "execute_result"
    },
    {
     "data": {
      "image/png": "[encoded data removed]",
      "text/plain": [
       "<Figure size 1440x720 with 2 Axes>"
      ]
     },
     "metadata": {},
     "output_type": "display_data"
    }
   ],
   "source": [
    "sns.set(style=\"darkgrid\")\n",
    "plt.figure(figsize=(20,10))\n",
    "sns.heatmap(master_data.corr(),\n",
    "            annot=True,\n",
    "            vmin=-1,\n",
    "            vmax=1,)"
   ]
  },
  {
   "cell_type": "code",
   "execution_count": 41,
   "metadata": {},
   "outputs": [
    {
     "data": {
      "text/plain": [
       "Text(0.5, 1.0, 'Payment Preferences')"
      ]
     },
     "execution_count": 41,
     "metadata": {},
     "output_type": "execute_result"
    },
    {
     "data": {
      "image/png": "[encoded data removed]",
      "text/plain": [
       "<Figure size 504x504 with 1 Axes>"
      ]
     },
     "metadata": {},
     "output_type": "display_data"
    }
   ],
   "source": [
    "plt.figure(figsize = (7,7))\n",
    "ax = sns.countplot(x = \"Company\", hue = \"Payment_Mode\", data = master_data)\n",
    "plt.title(\"Payment Preferences\", fontsize = 15)"
   ]
  },
  {
   "cell_type": "markdown",
   "metadata": {},
   "source": [
    "Both company's customers prefer to make payment with card more than cash."
   ]
  },
  {
   "cell_type": "code",
   "execution_count": 42,
   "metadata": {},
   "outputs": [
    {
     "data": {
      "text/plain": [
       "Text(0.5, 1.0, 'Gender Distribution')"
      ]
     },
     "execution_count": 42,
     "metadata": {},
     "output_type": "execute_result"
    },
    {
     "data": {
      "image/png": "[encoded data removed]",
      "text/plain": [
       "<Figure size 504x504 with 1 Axes>"
      ]
     },
     "metadata": {},
     "output_type": "display_data"
    }
   ],
   "source": [
    "plt.figure(figsize = (7,7))\n",
    "ax = sns.countplot(x = \"Company\", hue = \"Gender\", data = master_data)\n",
    "plt.title('Gender Distribution', fontsize = 15)"
   ]
  },
  {
   "cell_type": "code",
   "execution_count": 43,
   "metadata": {},
   "outputs": [
    {
     "data": {
      "image/png": "[encoded data removed]",
      "text/plain": [
       "<Figure size 504x504 with 1 Axes>"
      ]
     },
     "metadata": {},
     "output_type": "display_data"
    }
   ],
   "source": [
    "plot1 = pinkcab.groupby(\"Year\")[\"Transaction ID\"].count()\n",
    "plot2 = yellowcab.groupby(\"Year\")[\"Transaction ID\"].count()\n",
    "plt.figure(figsize = (7,7))\n",
    "ax = plt.subplot()\n",
    "ax.bar(plot1.index-0.2, plot1.values, width = 0.4, color = \"pink\", align = \"center\", label = \"Pink Cab\")\n",
    "ax.bar(plot2.index+0.2, plot2.values, width=0.4, color= \"yellow\", align = \"center\", label = \"Yellow Cab\")\n",
    "plt.title(\"Number of transactions of each company per year\")\n",
    "plt.ylabel(\"Number of Transactions\")\n",
    "plt.xlabel(\"Year\")\n",
    "plt.xticks([2016, 2017, 2018])\n",
    "plt.legend()\n",
    "plt.show()"
   ]
  },
  {
   "cell_type": "markdown",
   "metadata": {},
   "source": [
    "Yellow Cab company has more transaction than Pink Can company all of three years."
   ]
  },
  {
   "cell_type": "code",
   "execution_count": 44,
   "metadata": {},
   "outputs": [
    {
     "data": {
      "image/png": "[encoded data removed]",
      "text/plain": [
       "<Figure size 504x504 with 1 Axes>"
      ]
     },
     "metadata": {},
     "output_type": "display_data"
    }
   ],
   "source": [
    "plot1 = pinkcab.groupby(\"Month\")[\"Transaction ID\"].count()\n",
    "plot2 = yellowcab.groupby(\"Month\")[\"Transaction ID\"].count()\n",
    "plt.figure(figsize = (7,7))\n",
    "ax= plt.subplot()\n",
    "ax.bar(plot1.index-0.2, plot1.values, width = 0.4, color = \"pink\", align = \"center\", label = \"Pink Cab\")\n",
    "ax.bar(plot2.index+0.2, plot2.values, width = 0.4, color = \"yellow\", align = \"center\", label = \"Yellow Cab\")\n",
    "plt.title(\"Number of transactions of each company per year\")\n",
    "plt.ylabel(\"Number of Transactions\")\n",
    "plt.xlabel(\"Year\")\n",
    "plt.xticks([1,2,3,4,5,6,7,8,9,10,11,12])\n",
    "plt.legend()\n",
    "plt.show()"
   ]
  },
  {
   "cell_type": "markdown",
   "metadata": {},
   "source": [
    "Yellow Cab company has more transaction than Pink Can company all of the months, especially throughout end of years which are US holiday months."
   ]
  },
  {
   "cell_type": "code",
   "execution_count": 45,
   "metadata": {},
   "outputs": [],
   "source": [
    "#profit column added, I assumed profit as price charged - cost of travel\n",
    "master_data[\"Profit\"] = master_data[\"Price Charged\"] - master_data[\"Cost of Trip\"]"
   ]
  },
  {
   "cell_type": "code",
   "execution_count": 46,
   "metadata": {
    "scrolled": true
   },
   "outputs": [],
   "source": [
    "total_profit_peryear = master_data.groupby(['Company', 'Year']).Profit.sum().to_frame('Profit')\n",
    "total_profit_peryear[\"Year\"] = [2016, 2017, 2018, 2016, 2017, 2018]\n",
    "total_profit_peryear[\"Company\"] = [\"Pink Cab\", \"Pink Cab\", \"Pink Cab\", \"Yellow Cab\", \"Yellow Cab\", \"Yellow Cab\"]"
   ]
  },
  {
   "cell_type": "code",
   "execution_count": 47,
   "metadata": {},
   "outputs": [
    {
     "data": {
      "text/plain": [
       "([<matplotlib.axis.XTick at 0x1ac301e9700>,\n",
       "  <matplotlib.axis.XTick at 0x1ac301e98b0>,\n",
       "  <matplotlib.axis.XTick at 0x1ac30229e50>],\n",
       " <a list of 3 Text major ticklabel objects>)"
      ]
     },
     "execution_count": 47,
     "metadata": {},
     "output_type": "execute_result"
    },
    {
     "data": {
      "image/png": "[encoded data removed]",
      "text/plain": [
       "<Figure size 576x432 with 1 Axes>"
      ]
     },
     "metadata": {},
     "output_type": "display_data"
    }
   ],
   "source": [
    "plt.figure(figsize=(8,6))\n",
    "sns.lineplot(x='Year', y='Profit', hue=\"Company\", data = total_profit_peryear, marker='o')\n",
    "plt.xlabel(\"Year\", size=14)\n",
    "plt.ylabel(\"Profit\", size=14)\n",
    "plt.title(\"Profit per year\")\n",
    "plt.xticks([2016, 2017, 2018])"
   ]
  },
  {
   "cell_type": "markdown",
   "metadata": {},
   "source": [
    "Yellow Cab company made more profit in all of three years."
   ]
  },
  {
   "cell_type": "code",
   "execution_count": 48,
   "metadata": {},
   "outputs": [],
   "source": [
    "percentageprofit_year= master_data.groupby(['Company', 'Year'])['Price Charged'].sum().to_frame('Price')\n",
    "percentageprofit_year['%Profit'] =(total_profit_peryear['Profit']*100) /percentageprofit_year['Price']\n",
    "percentageprofit_year[\"Year\"] = [2016, 2017, 2018, 2016, 2017, 2018]\n",
    "percentageprofit_year[\"Company\"] = [\"Pink Cab\", \"Pink Cab\", \"Pink Cab\", \"Yellow Cab\", \"Yellow Cab\", \"Yellow Cab\"]"
   ]
  },
  {
   "cell_type": "code",
   "execution_count": 49,
   "metadata": {},
   "outputs": [
    {
     "data": {
      "text/plain": [
       "([<matplotlib.axis.XTick at 0x1ac3027fdf0>,\n",
       "  <matplotlib.axis.XTick at 0x1ac3027ffd0>,\n",
       "  <matplotlib.axis.XTick at 0x1ac302a5160>],\n",
       " <a list of 3 Text major ticklabel objects>)"
      ]
     },
     "execution_count": 49,
     "metadata": {},
     "output_type": "execute_result"
    },
    {
     "data": {
      "image/png": "[encoded data removed]",
      "text/plain": [
       "<Figure size 576x432 with 1 Axes>"
      ]
     },
     "metadata": {},
     "output_type": "display_data"
    }
   ],
   "source": [
    "plt.figure(figsize=(8,6))\n",
    "sns.lineplot(x='Year', y='%Profit', hue=\"Company\", data = percentageprofit_year, marker='o')\n",
    "plt.xlabel(\"Year\", size=14)\n",
    "plt.ylabel(\"Profi t%\", size=14)\n",
    "plt.title(\"Profit % per year\")\n",
    "plt.xticks([2016, 2017, 2018])"
   ]
  },
  {
   "cell_type": "markdown",
   "metadata": {},
   "source": [
    "Yellow Cab company is more profitable in all of three years"
   ]
  },
  {
   "cell_type": "code",
   "execution_count": 50,
   "metadata": {},
   "outputs": [],
   "source": [
    "total_profit_permonth = master_data.groupby(['Company', 'Month']).Profit.sum().to_frame('Profit')\n",
    "total_profit_permonth[\"Month\"] = [1, 2, 3, 4, 5, 6, 7, 8, 9, 10, 11, 12, 1, 2, 3, 4, 5, 6, 7, 8, 9, 10, 11, 12]\n",
    "total_profit_permonth[\"Company\"] = [\"Pink Cab\", \"Pink Cab\", \"Pink Cab\", \"Pink Cab\", \"Pink Cab\", \"Pink Cab\", \"Pink Cab\", \"Pink Cab\", \"Pink Cab\", \"Pink Cab\", \"Pink Cab\", \"Pink Cab\", \"Yellow Cab\", \"Yellow Cab\", \"Yellow Cab\", \"Yellow Cab\", \"Yellow Cab\", \"Yellow Cab\", \"Yellow Cab\", \"Yellow Cab\", \"Yellow Cab\", \"Yellow Cab\", \"Yellow Cab\", \"Yellow Cab\"]"
   ]
  },
  {
   "cell_type": "code",
   "execution_count": 51,
   "metadata": {},
   "outputs": [
    {
     "data": {
      "text/plain": [
       "Text(0.5, 1.0, 'Profit per month')"
      ]
     },
     "execution_count": 51,
     "metadata": {},
     "output_type": "execute_result"
    },
    {
     "data": {
      "image/png": "[encoded data removed]",
      "text/plain": [
       "<Figure size 576x432 with 1 Axes>"
      ]
     },
     "metadata": {},
     "output_type": "display_data"
    }
   ],
   "source": [
    "plt.figure(figsize=(8,6))\n",
    "sns.lineplot(x='Month', y='Profit', hue=\"Company\", data = total_profit_permonth, marker='o')\n",
    "plt.xlabel(\"Month\", size=14)\n",
    "plt.ylabel(\"Profit\", size=14)\n",
    "plt.title(\"Profit per month\")"
   ]
  },
  {
   "cell_type": "markdown",
   "metadata": {},
   "source": [
    "Yellow Cab company made more profit in all months, especially throughout end of years which are US holiday months."
   ]
  },
  {
   "cell_type": "code",
   "execution_count": 52,
   "metadata": {},
   "outputs": [],
   "source": [
    "percentageprofit_month = master_data.groupby(['Company', 'Month'])['Price Charged'].sum().to_frame('Price')\n",
    "percentageprofit_month['%Profit'] =(total_profit_permonth['Profit']*100) / percentageprofit_month['Price']\n",
    "percentageprofit_month[\"Month\"] = [1, 2, 3, 4, 5, 6, 7, 8, 9, 10, 11, 12, 1, 2, 3, 4, 5, 6, 7, 8, 9, 10, 11, 12]\n",
    "percentageprofit_month[\"Company\"] = [\"Pink Cab\", \"Pink Cab\", \"Pink Cab\", \"Pink Cab\", \"Pink Cab\", \"Pink Cab\", \"Pink Cab\", \"Pink Cab\", \"Pink Cab\", \"Pink Cab\", \"Pink Cab\", \"Pink Cab\", \"Yellow Cab\", \"Yellow Cab\", \"Yellow Cab\", \"Yellow Cab\", \"Yellow Cab\", \"Yellow Cab\", \"Yellow Cab\", \"Yellow Cab\", \"Yellow Cab\", \"Yellow Cab\", \"Yellow Cab\", \"Yellow Cab\"]"
   ]
  },
  {
   "cell_type": "code",
   "execution_count": 53,
   "metadata": {},
   "outputs": [
    {
     "data": {
      "text/plain": [
       "Text(0.5, 1.0, 'Profit % per month')"
      ]
     },
     "execution_count": 53,
     "metadata": {},
     "output_type": "execute_result"
    },
    {
     "data": {
      "image/png": "[encoded data removed]",
      "text/plain": [
       "<Figure size 576x432 with 1 Axes>"
      ]
     },
     "metadata": {},
     "output_type": "display_data"
    }
   ],
   "source": [
    "plt.figure(figsize=(8,6))\n",
    "sns.lineplot(x='Month', y='%Profit', hue=\"Company\", data = percentageprofit_month, marker='o')\n",
    "plt.xlabel(\"Month\", size=14)\n",
    "plt.ylabel(\"Profi t%\", size=14)\n",
    "plt.title(\"Profit % per month\")"
   ]
  },
  {
   "cell_type": "markdown",
   "metadata": {},
   "source": [
    "Yellow Cab company is more profitable in all months. However, Pink Cab company decreased the gap throughout end of years which are US holiday months."
   ]
  },
  {
   "cell_type": "markdown",
   "metadata": {},
   "source": [
    "# Hypothesis Testing"
   ]
  },
  {
   "cell_type": "markdown",
   "metadata": {},
   "source": [
    "H0 : There is no difference regarding Gender in both cab companies.\n",
    "\n",
    "H1 : There is difference regarding Gender in both cab companies."
   ]
  },
  {
   "cell_type": "code",
   "execution_count": 54,
   "metadata": {},
   "outputs": [
    {
     "name": "stdout",
     "output_type": "stream",
     "text": [
      "P value is  0.11515305900425798\n"
     ]
    }
   ],
   "source": [
    "#Pink Cab\n",
    "\n",
    "data_1 = master_data[(master_data.Gender == 'Male')&(master_data.Company == 'Pink Cab')].groupby('Transaction ID').Profit.mean()\n",
    "data_2 = master_data[(master_data.Gender == 'Female')&(master_data.Company == 'Pink Cab')].groupby('Transaction ID').Profit.mean()\n",
    "\n",
    "_, p_value = stats.ttest_ind(data_1.values,\n",
    "                             data_2.values,\n",
    "                             equal_var=True)\n",
    "\n",
    "print('P value is ', p_value)"
   ]
  },
  {
   "cell_type": "markdown",
   "metadata": {},
   "source": [
    "We accept null hypothesis."
   ]
  },
  {
   "cell_type": "code",
   "execution_count": 55,
   "metadata": {},
   "outputs": [
    {
     "name": "stdout",
     "output_type": "stream",
     "text": [
      "P value is  6.060473042494144e-25\n"
     ]
    }
   ],
   "source": [
    "#Yellow Cab\n",
    "\n",
    "data_1 = master_data[(master_data.Gender == \"Male\")&(master_data.Company == 'Yellow Cab')].groupby(\"Transaction ID\").Profit.mean()\n",
    "data_2 = master_data[(master_data.Gender == \"Female\")&(master_data.Company == 'Yellow Cab')].groupby(\"Transaction ID\").Profit.mean()\n",
    "\n",
    "_, p_value = stats.ttest_ind(data_1.values,\n",
    "                             data_2.values,\n",
    "                             equal_var=True)\n",
    "\n",
    "print(\"P value is \", p_value)\n"
   ]
  },
  {
   "cell_type": "markdown",
   "metadata": {},
   "source": [
    "We reject null hytpothesis."
   ]
  },
  {
   "cell_type": "markdown",
   "metadata": {},
   "source": [
    "H0 : There is no difference regarding payment methods in both cab companies.\n",
    "\n",
    "H1 : There is difference regarding payment methods in both cab companies."
   ]
  },
  {
   "cell_type": "code",
   "execution_count": 56,
   "metadata": {},
   "outputs": [
    {
     "name": "stdout",
     "output_type": "stream",
     "text": [
      "P value is  0.7900465828793288\n"
     ]
    }
   ],
   "source": [
    "data_1 = master_data[(master_data.Payment_Mode == \"Card\")&(master_data.Company == \"Pink Cab\")].groupby(\"Transaction ID\").Profit.mean()\n",
    "data_2 = master_data[(master_data.Payment_Mode == \"Cash\")&(master_data.Company == \"Pink Cab\")].groupby(\"Transaction ID\").Profit.mean()\n",
    "\n",
    "_, p_value = stats.ttest_ind(data_1.values,\n",
    "                            data_2.values,\n",
    "                            equal_var = True)\n",
    "\n",
    "print(\"P value is \", p_value)"
   ]
  },
  {
   "cell_type": "markdown",
   "metadata": {},
   "source": [
    "We accept null hypothesis."
   ]
  },
  {
   "cell_type": "code",
   "execution_count": 57,
   "metadata": {},
   "outputs": [
    {
     "name": "stdout",
     "output_type": "stream",
     "text": [
      "P value is  0.29330606382985325\n"
     ]
    }
   ],
   "source": [
    "data_1 = master_data[(master_data.Payment_Mode == \"Card\")&(master_data.Company == \"Yellow Cab\")].groupby(\"Transaction ID\").Profit.mean()\n",
    "data_2 = master_data[(master_data.Payment_Mode == \"Cash\")&(master_data.Company == \"Yellow Cab\")].groupby(\"Transaction ID\").Profit.mean()\n",
    "\n",
    "_, p_value = stats.ttest_ind(data_1.values,\n",
    "                            data_2.values,\n",
    "                            equal_var = True)\n",
    "\n",
    "print(\"P value is \", p_value)"
   ]
  },
  {
   "cell_type": "markdown",
   "metadata": {},
   "source": [
    "H0 : There is no difference regarding income level in both cab companies.\n",
    "\n",
    "H1 : There is difference regarding income level in both cab companies."
   ]
  },
  {
   "cell_type": "markdown",
   "metadata": {},
   "source": [
    "We accept null hypothesis."
   ]
  },
  {
   "cell_type": "code",
   "execution_count": 58,
   "metadata": {},
   "outputs": [
    {
     "data": {
      "text/plain": [
       "14685.0"
      ]
     },
     "execution_count": 58,
     "metadata": {},
     "output_type": "execute_result"
    }
   ],
   "source": [
    "master_data[\"Income (USD/Month)\"].median()"
   ]
  },
  {
   "cell_type": "code",
   "execution_count": 59,
   "metadata": {},
   "outputs": [
    {
     "name": "stdout",
     "output_type": "stream",
     "text": [
      "P value is  0.07500814329070742\n"
     ]
    }
   ],
   "source": [
    "data_1 = master_data[(master_data[\"Income (USD/Month)\"] <= 14685)&(master_data.Company == \"Pink Cab\")].groupby(\"Transaction ID\").Profit.mean()\n",
    "data_2 = master_data[(master_data[\"Income (USD/Month)\"] > 14685)&(master_data.Company == \"Pink Cab\")].groupby(\"Transaction ID\").Profit.mean()\n",
    "\n",
    "_, p_value = stats.ttest_ind(data_1.values,\n",
    "                             data_2.values,\n",
    "                             equal_var = True)\n",
    "\n",
    "print(\"P value is \", p_value)"
   ]
  },
  {
   "cell_type": "markdown",
   "metadata": {},
   "source": [
    "We accept null hypothesis."
   ]
  },
  {
   "cell_type": "code",
   "execution_count": 60,
   "metadata": {},
   "outputs": [
    {
     "name": "stdout",
     "output_type": "stream",
     "text": [
      "P value is  1.2025645018067682e-07\n"
     ]
    }
   ],
   "source": [
    "data_1 = master_data[(master_data[\"Income (USD/Month)\"] <= 14685)&(master_data.Company == \"Yellow Cab\")].groupby(\"Transaction ID\").Profit.mean()\n",
    "data_2 = master_data[(master_data[\"Income (USD/Month)\"] > 14685)&(master_data.Company == \"Yellow Cab\")].groupby(\"Transaction ID\").Profit.mean()\n",
    "\n",
    "_, p_value = stats.ttest_ind(data_1.values,\n",
    "                             data_2.values,\n",
    "                             equal_var = True)\n",
    "\n",
    "print(\"P value is \", p_value)"
   ]
  },
  {
   "cell_type": "markdown",
   "metadata": {},
   "source": [
    "We reject null hypothesis.\n",
    "It looks like Yellow Cab company is prefered by high income levels."
   ]
  }
 ],
 "metadata": {
  "kernelspec": {
   "display_name": "Python 3",
   "language": "python",
   "name": "python3"
  },
  "language_info": {
   "codemirror_mode": {
    "name": "ipython",
    "version": 3
   },
   "file_extension": ".py",
   "mimetype": "text/x-python",
   "name": "python",
   "nbconvert_exporter": "python",
   "pygments_lexer": "ipython3",
   "version": "3.8.3"
  }
 },
 "nbformat": 4,
 "nbformat_minor": 4
}
